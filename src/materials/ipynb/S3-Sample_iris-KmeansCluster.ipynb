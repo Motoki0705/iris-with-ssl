{
  "cells": [
    {
      "cell_type": "markdown",
      "metadata": {},
      "source": [
        "# Iris K-means Clustering Notebook\n",
        "\n",
        "アヤメ (Iris) データセットに対して K-means クラスタリングを行い、特徴量の選択やクラスタ数 \\(k\\) の変更による結果を可視化します。\n"
      ]
    },
    {
      "cell_type": "code",
      "execution_count": 2,
      "metadata": {},
      "outputs": [],
      "source": [
        "from pathlib import Path\n",
        "\n",
        "import matplotlib.pyplot as plt\n",
        "from IPython.display import display\n",
        "import numpy as np\n",
        "import pandas as pd\n",
        "import seaborn as sns\n",
        "from sklearn.decomposition import PCA\n",
        "from sklearn.cluster import KMeans\n",
        "from sklearn.pipeline import make_pipeline\n",
        "from sklearn.preprocessing import StandardScaler\n",
        "\n",
        "sns.set_theme(style=\"whitegrid\")\n"
      ]
    },
    {
      "cell_type": "markdown",
      "metadata": {},
      "source": [
        "## データ読み込み\n"
      ]
    },
    {
      "cell_type": "code",
      "execution_count": 3,
      "metadata": {},
      "outputs": [
        {
          "data": {
            "text/html": [
              "<div>\n",
              "<style scoped>\n",
              "    .dataframe tbody tr th:only-of-type {\n",
              "        vertical-align: middle;\n",
              "    }\n",
              "\n",
              "    .dataframe tbody tr th {\n",
              "        vertical-align: top;\n",
              "    }\n",
              "\n",
              "    .dataframe thead th {\n",
              "        text-align: right;\n",
              "    }\n",
              "</style>\n",
              "<table border=\"1\" class=\"dataframe\">\n",
              "  <thead>\n",
              "    <tr style=\"text-align: right;\">\n",
              "      <th></th>\n",
              "      <th>sepal.length</th>\n",
              "      <th>sepal.width</th>\n",
              "      <th>petal.length</th>\n",
              "      <th>petal.width</th>\n",
              "      <th>target</th>\n",
              "      <th>species</th>\n",
              "    </tr>\n",
              "  </thead>\n",
              "  <tbody>\n",
              "    <tr>\n",
              "      <th>0</th>\n",
              "      <td>5.1</td>\n",
              "      <td>3.5</td>\n",
              "      <td>1.4</td>\n",
              "      <td>0.2</td>\n",
              "      <td>0</td>\n",
              "      <td>setosa</td>\n",
              "    </tr>\n",
              "    <tr>\n",
              "      <th>1</th>\n",
              "      <td>4.9</td>\n",
              "      <td>3.0</td>\n",
              "      <td>1.4</td>\n",
              "      <td>0.2</td>\n",
              "      <td>0</td>\n",
              "      <td>setosa</td>\n",
              "    </tr>\n",
              "    <tr>\n",
              "      <th>2</th>\n",
              "      <td>4.7</td>\n",
              "      <td>3.2</td>\n",
              "      <td>1.3</td>\n",
              "      <td>0.2</td>\n",
              "      <td>0</td>\n",
              "      <td>setosa</td>\n",
              "    </tr>\n",
              "    <tr>\n",
              "      <th>3</th>\n",
              "      <td>4.6</td>\n",
              "      <td>3.1</td>\n",
              "      <td>1.5</td>\n",
              "      <td>0.2</td>\n",
              "      <td>0</td>\n",
              "      <td>setosa</td>\n",
              "    </tr>\n",
              "    <tr>\n",
              "      <th>4</th>\n",
              "      <td>5.0</td>\n",
              "      <td>3.6</td>\n",
              "      <td>1.4</td>\n",
              "      <td>0.2</td>\n",
              "      <td>0</td>\n",
              "      <td>setosa</td>\n",
              "    </tr>\n",
              "  </tbody>\n",
              "</table>\n",
              "</div>"
            ],
            "text/plain": [
              "   sepal.length  sepal.width  petal.length  petal.width  target species\n",
              "0           5.1          3.5           1.4          0.2       0  setosa\n",
              "1           4.9          3.0           1.4          0.2       0  setosa\n",
              "2           4.7          3.2           1.3          0.2       0  setosa\n",
              "3           4.6          3.1           1.5          0.2       0  setosa\n",
              "4           5.0          3.6           1.4          0.2       0  setosa"
            ]
          },
          "execution_count": 3,
          "metadata": {},
          "output_type": "execute_result"
        }
      ],
      "source": [
        "def find_data_path(filename: str = \"iris.csv\", search_depth: int = 4) -> Path:\n",
        "    current = Path.cwd().resolve()\n",
        "    candidates = [current / filename]\n",
        "    candidates.extend(parent / filename for parent in current.parents[:search_depth])\n",
        "\n",
        "    for path in candidates:\n",
        "        if path.exists():\n",
        "            return path\n",
        "\n",
        "    raise FileNotFoundError(\n",
        "        f\"Could not find {filename}. Checked: {[str(path) for path in candidates]}\"\n",
        "    )\n",
        "\n",
        "\n",
        "def load_iris_dataframe() -> pd.DataFrame:\n",
        "    path = find_data_path()\n",
        "    df = pd.read_csv(path)\n",
        "    renamed_columns = {\n",
        "        \"sepal.length (cm)\": \"sepal.length\",\n",
        "        \"sepal.width (cm)\": \"sepal.width\",\n",
        "        \"petal.length (cm)\": \"petal.length\",\n",
        "        \"petal.width (cm)\": \"petal.width\",\n",
        "    }\n",
        "    df = df.rename(columns=renamed_columns)\n",
        "    species_map = {0: \"setosa\", 1: \"versicolor\", 2: \"virginica\"}\n",
        "    df[\"species\"] = df[\"target\"].map(species_map)\n",
        "    return df\n",
        "\n",
        "\n",
        "df_iris = load_iris_dataframe()\n",
        "df_iris.head()\n"
      ]
    },
    {
      "cell_type": "markdown",
      "metadata": {},
      "source": [
        "## 特徴量とクラスタ数の設定\n"
      ]
    },
    {
      "cell_type": "code",
      "execution_count": 4,
      "metadata": {},
      "outputs": [],
      "source": [
        "FEATURE_MODES: dict[str, list[str]] = {\n",
        "    \"all\": [\"sepal.length\", \"sepal.width\", \"petal.length\", \"petal.width\"],\n",
        "    \"sepal\": [\"sepal.length\", \"sepal.width\"],\n",
        "    \"petal\": [\"petal.length\", \"petal.width\"],\n",
        "}\n",
        "\n",
        "FEATURE_MODE = \"all\"  # \"all\", \"sepal\", \"petal\" から選択\n",
        "CUSTOM_FEATURES: list[str] | None = None\n",
        "N_CLUSTERS_OPTIONS = [3]  # 例: [3, 4, 5]\n",
        "RANDOM_STATE = 42\n",
        "\n",
        "\n",
        "def resolve_feature_names(feature_mode: str, custom_features: list[str] | None) -> list[str]:\n",
        "    if custom_features:\n",
        "        return custom_features\n",
        "    try:\n",
        "        return FEATURE_MODES[feature_mode]\n",
        "    except KeyError:\n",
        "        available = \", \".join(FEATURE_MODES)\n",
        "        raise ValueError(f\"Unknown feature_mode '{feature_mode}'. Choose from: {available}\")\n"
      ]
    },
    {
      "cell_type": "markdown",
      "metadata": {},
      "source": [
        "## K-means 実行用ユーティリティ\n"
      ]
    },
    {
      "cell_type": "code",
      "execution_count": 5,
      "metadata": {},
      "outputs": [],
      "source": [
        "def run_kmeans(\n",
        "    data: pd.DataFrame,\n",
        "    feature_names: list[str],\n",
        "    cluster_options: list[int],\n",
        "    random_state: int = 42,\n",
        "):\n",
        "    X = data[feature_names].to_numpy()\n",
        "    results = []\n",
        "\n",
        "    for n_clusters in cluster_options:\n",
        "        pipeline = make_pipeline(\n",
        "            StandardScaler(),\n",
        "            KMeans(n_clusters=n_clusters, n_init=10, random_state=random_state),\n",
        "        )\n",
        "        labels = pipeline.fit_predict(X)\n",
        "\n",
        "        scaler = pipeline.named_steps[\"standardscaler\"]\n",
        "        kmeans = pipeline.named_steps[\"kmeans\"]\n",
        "        scaled_X = scaler.transform(X)\n",
        "        centroids_scaled = kmeans.cluster_centers_\n",
        "        centroids = scaler.inverse_transform(centroids_scaled)\n",
        "\n",
        "        results.append(\n",
        "            {\n",
        "                \"n_clusters\": n_clusters,\n",
        "                \"pipeline\": pipeline,\n",
        "                \"labels\": labels,\n",
        "                \"scaled_X\": scaled_X,\n",
        "                \"centroids_scaled\": centroids_scaled,\n",
        "                \"centroids\": centroids,\n",
        "                \"inertia\": kmeans.inertia_,\n",
        "            }\n",
        "        )\n",
        "\n",
        "    return results, X\n"
      ]
    },
    {
      "cell_type": "markdown",
      "metadata": {},
      "source": [
        "## クラスタリングの実行\n"
      ]
    },
    {
      "cell_type": "code",
      "execution_count": 6,
      "metadata": {},
      "outputs": [
        {
          "name": "stdout",
          "output_type": "stream",
          "text": [
            "Using features: ['sepal.length', 'sepal.width', 'petal.length', 'petal.width']\n"
          ]
        }
      ],
      "source": [
        "feature_names = resolve_feature_names(FEATURE_MODE, CUSTOM_FEATURES)\n",
        "print(f\"Using features: {feature_names}\")\n",
        "\n",
        "kmeans_results, X_all = run_kmeans(\n",
        "    data=df_iris,\n",
        "    feature_names=feature_names,\n",
        "    cluster_options=N_CLUSTERS_OPTIONS,\n",
        "    random_state=RANDOM_STATE,\n",
        ")\n"
      ]
    },
    {
      "cell_type": "markdown",
      "metadata": {},
      "source": [
        "## 結果の確認\n"
      ]
    },
    {
      "cell_type": "code",
      "execution_count": 7,
      "metadata": {},
      "outputs": [
        {
          "name": "stdout",
          "output_type": "stream",
          "text": [
            "k = 3 | inertia = 139.82\n"
          ]
        },
        {
          "data": {
            "text/html": [
              "<div>\n",
              "<style scoped>\n",
              "    .dataframe tbody tr th:only-of-type {\n",
              "        vertical-align: middle;\n",
              "    }\n",
              "\n",
              "    .dataframe tbody tr th {\n",
              "        vertical-align: top;\n",
              "    }\n",
              "\n",
              "    .dataframe thead th {\n",
              "        text-align: right;\n",
              "    }\n",
              "</style>\n",
              "<table border=\"1\" class=\"dataframe\">\n",
              "  <thead>\n",
              "    <tr style=\"text-align: right;\">\n",
              "      <th></th>\n",
              "      <th>sepal.length</th>\n",
              "      <th>sepal.width</th>\n",
              "      <th>petal.length</th>\n",
              "      <th>petal.width</th>\n",
              "      <th>cluster</th>\n",
              "      <th>species</th>\n",
              "    </tr>\n",
              "  </thead>\n",
              "  <tbody>\n",
              "    <tr>\n",
              "      <th>0</th>\n",
              "      <td>5.1</td>\n",
              "      <td>3.5</td>\n",
              "      <td>1.4</td>\n",
              "      <td>0.2</td>\n",
              "      <td>1</td>\n",
              "      <td>setosa</td>\n",
              "    </tr>\n",
              "    <tr>\n",
              "      <th>1</th>\n",
              "      <td>4.9</td>\n",
              "      <td>3.0</td>\n",
              "      <td>1.4</td>\n",
              "      <td>0.2</td>\n",
              "      <td>1</td>\n",
              "      <td>setosa</td>\n",
              "    </tr>\n",
              "    <tr>\n",
              "      <th>2</th>\n",
              "      <td>4.7</td>\n",
              "      <td>3.2</td>\n",
              "      <td>1.3</td>\n",
              "      <td>0.2</td>\n",
              "      <td>1</td>\n",
              "      <td>setosa</td>\n",
              "    </tr>\n",
              "    <tr>\n",
              "      <th>3</th>\n",
              "      <td>4.6</td>\n",
              "      <td>3.1</td>\n",
              "      <td>1.5</td>\n",
              "      <td>0.2</td>\n",
              "      <td>1</td>\n",
              "      <td>setosa</td>\n",
              "    </tr>\n",
              "    <tr>\n",
              "      <th>4</th>\n",
              "      <td>5.0</td>\n",
              "      <td>3.6</td>\n",
              "      <td>1.4</td>\n",
              "      <td>0.2</td>\n",
              "      <td>1</td>\n",
              "      <td>setosa</td>\n",
              "    </tr>\n",
              "  </tbody>\n",
              "</table>\n",
              "</div>"
            ],
            "text/plain": [
              "   sepal.length  sepal.width  petal.length  petal.width  cluster species\n",
              "0           5.1          3.5           1.4          0.2        1  setosa\n",
              "1           4.9          3.0           1.4          0.2        1  setosa\n",
              "2           4.7          3.2           1.3          0.2        1  setosa\n",
              "3           4.6          3.1           1.5          0.2        1  setosa\n",
              "4           5.0          3.6           1.4          0.2        1  setosa"
            ]
          },
          "metadata": {},
          "output_type": "display_data"
        }
      ],
      "source": [
        "for result in kmeans_results:\n",
        "    n_clusters = result[\"n_clusters\"]\n",
        "    labels = result[\"labels\"]\n",
        "    inertia = result[\"inertia\"]\n",
        "    print(f\"k = {n_clusters} | inertia = {inertia:.2f}\")\n",
        "    display(\n",
        "        df_iris.assign(cluster=labels)[feature_names + [\"cluster\", \"species\"]].head()\n",
        "    )\n"
      ]
    },
    {
      "cell_type": "markdown",
      "metadata": {},
      "source": [
        "## 可視化関数\n"
      ]
    },
    {
      "cell_type": "code",
      "execution_count": 8,
      "metadata": {},
      "outputs": [],
      "source": [
        "def plot_clusters_2d(\n",
        "    X: np.ndarray,\n",
        "    labels: np.ndarray,\n",
        "    centroids: np.ndarray,\n",
        "    feature_names: list[str],\n",
        "    title: str,\n",
        "):\n",
        "    fig, ax = plt.subplots(figsize=(8, 6))\n",
        "    palette = sns.color_palette(\"deep\", n_colors=len(np.unique(labels)))\n",
        "\n",
        "    for cluster_id, color in zip(sorted(np.unique(labels)), palette):\n",
        "        mask = labels == cluster_id\n",
        "        ax.scatter(\n",
        "            X[mask, 0],\n",
        "            X[mask, 1],\n",
        "            label=f\"Cluster {cluster_id}\",\n",
        "            color=color,\n",
        "            edgecolor=\"black\",\n",
        "            alpha=0.8,\n",
        "        )\n",
        "\n",
        "    ax.scatter(\n",
        "        centroids[:, 0],\n",
        "        centroids[:, 1],\n",
        "        marker=\"X\",\n",
        "        s=200,\n",
        "        color=\"black\",\n",
        "        label=\"Centroids\",\n",
        "    )\n",
        "\n",
        "    xlabel = feature_names[0].replace(\".\", \" \").title()\n",
        "    ylabel = feature_names[1].replace(\".\", \" \").title()\n",
        "    ax.set_xlabel(xlabel)\n",
        "    ax.set_ylabel(ylabel)\n",
        "    ax.set_title(title)\n",
        "    ax.legend()\n",
        "    plt.tight_layout()\n",
        "    return ax\n",
        "\n",
        "\n",
        "def plot_clusters_pca(\n",
        "    scaled_X: np.ndarray,\n",
        "    labels: np.ndarray,\n",
        "    centroids_scaled: np.ndarray,\n",
        "    title: str,\n",
        "):\n",
        "    pca = PCA(n_components=2)\n",
        "    X_pca = pca.fit_transform(scaled_X)\n",
        "    centroids_pca = pca.transform(centroids_scaled)\n",
        "\n",
        "    fig, ax = plt.subplots(figsize=(8, 6))\n",
        "    palette = sns.color_palette(\"deep\", n_colors=len(np.unique(labels)))\n",
        "\n",
        "    for cluster_id, color in zip(sorted(np.unique(labels)), palette):\n",
        "        mask = labels == cluster_id\n",
        "        ax.scatter(\n",
        "            X_pca[mask, 0],\n",
        "            X_pca[mask, 1],\n",
        "            label=f\"Cluster {cluster_id}\",\n",
        "            color=color,\n",
        "            edgecolor=\"black\",\n",
        "            alpha=0.8,\n",
        "        )\n",
        "\n",
        "    ax.scatter(\n",
        "        centroids_pca[:, 0],\n",
        "        centroids_pca[:, 1],\n",
        "        marker=\"X\",\n",
        "        s=200,\n",
        "        color=\"black\",\n",
        "        label=\"Centroids\",\n",
        "    )\n",
        "\n",
        "    ax.set_xlabel(\"PCA 1\")\n",
        "    ax.set_ylabel(\"PCA 2\")\n",
        "    ax.set_title(title)\n",
        "    ax.legend()\n",
        "    plt.tight_layout()\n",
        "    return ax\n"
      ]
    },
    {
      "cell_type": "markdown",
      "metadata": {},
      "source": [
        "## クラスタリング結果の可視化\n"
      ]
    },
    {
      "cell_type": "code",
      "execution_count": 9,
      "metadata": {},
      "outputs": [
        {
          "data": {
            "image/png": "[encoded data removed]",
            "text/plain": [
              "<Figure size 800x600 with 1 Axes>"
            ]
          },
          "metadata": {},
          "output_type": "display_data"
        }
      ],
      "source": [
        "for result in kmeans_results:\n",
        "    n_clusters = result[\"n_clusters\"]\n",
        "    labels = result[\"labels\"]\n",
        "    centroids = result[\"centroids\"]\n",
        "    centroids_scaled = result[\"centroids_scaled\"]\n",
        "    scaled_X = result[\"scaled_X\"]\n",
        "\n",
        "    if len(feature_names) == 2:\n",
        "        plot_clusters_2d(\n",
        "            X=X_all,\n",
        "            labels=labels,\n",
        "            centroids=centroids,\n",
        "            feature_names=feature_names,\n",
        "            title=f\"K-means clustering (k={n_clusters})\",\n",
        "        )\n",
        "        plt.show()\n",
        "    else:\n",
        "        plot_clusters_pca(\n",
        "            scaled_X=scaled_X,\n",
        "            labels=labels,\n",
        "            centroids_scaled=centroids_scaled,\n",
        "            title=f\"K-means clustering PCA view (k={n_clusters})\",\n",
        "        )\n",
        "        plt.show()\n"
      ]
    }
  ],
  "metadata": {
    "kernelspec": {
      "display_name": "iris",
      "language": "python",
      "name": "python3"
    },
    "language_info": {
      "codemirror_mode": {
        "name": "ipython",
        "version": 3
      },
      "file_extension": ".py",
      "mimetype": "text/x-python",
      "name": "python",
      "nbconvert_exporter": "python",
      "pygments_lexer": "ipython3",
      "version": "3.11.0"
    }
  },
  "nbformat": 4,
  "nbformat_minor": 5
}
