{
  "nbformat": 4,
  "nbformat_minor": 5,
  "metadata": {
    "kernelspec": {
      "name": "python3",
      "display_name": "Python 3",
      "language": "python"
    },
    "language_info": {
      "name": "python",
      "pygments_lexer": "ipython3"
    }
  },
  "cells": [
    {
      "cell_type": "markdown",
      "metadata": {},
      "source": [
        "# Iris KNN Classifier Notebook\n",
        "\n",
        "K近傍法 (K-Nearest Neighbors; KNN) によるアヤメ品種の分類を行い、特徴量の組み合わせや近傍数 \\(k\\) の違いによる性能を評価します。\n"
      ]
    },
    {
      "cell_type": "code",
      "metadata": {},
      "execution_count": null,
      "outputs": [],
      "source": [
        "from dataclasses import dataclass\n",
        "from pathlib import Path\n",
        "\n",
        "import matplotlib.pyplot as plt\n",
        "from matplotlib.colors import ListedColormap\n",
        "import numpy as np\n",
        "import pandas as pd\n",
        "import seaborn as sns\n",
        "from sklearn.metrics import ConfusionMatrixDisplay, accuracy_score\n",
        "from sklearn.model_selection import train_test_split\n",
        "from sklearn.neighbors import KNeighborsClassifier\n",
        "from sklearn.pipeline import make_pipeline\n",
        "from sklearn.preprocessing import StandardScaler\n",
        "\n",
        "sns.set_theme(style=\"whitegrid\")\n"
      ]
    },
    {
      "cell_type": "markdown",
      "metadata": {},
      "source": [
        "## データ読み込み\n"
      ]
    },
    {
      "cell_type": "code",
      "metadata": {},
      "execution_count": null,
      "outputs": [],
      "source": [
        "def find_data_path(filename: str = \"iris.csv\", search_depth: int = 4) -> Path:\n",
        "    current = Path.cwd().resolve()\n",
        "    candidates = [current / filename]\n",
        "    candidates.extend(parent / filename for parent in current.parents[:search_depth])\n",
        "\n",
        "    for path in candidates:\n",
        "        if path.exists():\n",
        "            return path\n",
        "\n",
        "    raise FileNotFoundError(\n",
        "        f\"Could not find {filename}. Checked: {[str(path) for path in candidates]}\"\n",
        "    )\n",
        "\n",
        "\n",
        "def load_iris_dataframe() -> pd.DataFrame:\n",
        "    path = find_data_path()\n",
        "    df = pd.read_csv(path)\n",
        "    renamed_columns = {\n",
        "        \"sepal.length (cm)\": \"sepal.length\",\n",
        "        \"sepal.width (cm)\": \"sepal.width\",\n",
        "        \"petal.length (cm)\": \"petal.length\",\n",
        "        \"petal.width (cm)\": \"petal.width\",\n",
        "    }\n",
        "    df = df.rename(columns=renamed_columns)\n",
        "    species_map = {0: \"setosa\", 1: \"versicolor\", 2: \"virginica\"}\n",
        "    df[\"species\"] = df[\"target\"].map(species_map)\n",
        "    return df\n",
        "\n",
        "\n",
        "df_iris = load_iris_dataframe()\n",
        "df_iris.head()\n"
      ]
    },
    {
      "cell_type": "markdown",
      "metadata": {},
      "source": [
        "## 特徴量選択の設定\n"
      ]
    },
    {
      "cell_type": "code",
      "metadata": {},
      "execution_count": null,
      "outputs": [],
      "source": [
        "FEATURE_MODES: dict[str, list[str]] = {\n",
        "    \"all\": [\"sepal.length\", \"sepal.width\", \"petal.length\", \"petal.width\"],\n",
        "    \"sepal\": [\"sepal.length\", \"sepal.width\"],\n",
        "    \"petal\": [\"petal.length\", \"petal.width\"],\n",
        "}\n",
        "\n",
        "FEATURE_MODE = \"all\"  # \"all\", \"sepal\", \"petal\" から選択\n",
        "CUSTOM_FEATURES: list[str] | None = None  # 例: [\"sepal.length\", \"petal.length\"]\n",
        "K_VALUES = [1, 3, 5, 10]\n",
        "TEST_SIZE = 0.2\n",
        "RANDOM_STATE = 42\n",
        "\n",
        "\n",
        "def resolve_feature_names(feature_mode: str, custom_features: list[str] | None) -> list[str]:\n",
        "    if custom_features:\n",
        "        return custom_features\n",
        "    try:\n",
        "        return FEATURE_MODES[feature_mode]\n",
        "    except KeyError:\n",
        "        available = \", \".join(FEATURE_MODES)\n",
        "        raise ValueError(f\"Unknown feature_mode '{feature_mode}'. Choose from: {available}\")\n"
      ]
    },
    {
      "cell_type": "markdown",
      "metadata": {},
      "source": [
        "## 評価用ユーティリティ\n"
      ]
    },
    {
      "cell_type": "code",
      "metadata": {},
      "execution_count": null,
      "outputs": [],
      "source": [
        "@dataclass\n",
        "class KNNResult:\n",
        "    k: int\n",
        "    accuracy: float\n",
        "    model: KNeighborsClassifier\n",
        "    pipeline: any\n",
        "    y_test: np.ndarray\n",
        "    y_pred: np.ndarray\n",
        "\n",
        "\n",
        "def evaluate_knn(\n",
        "    data: pd.DataFrame,\n",
        "    feature_names: list[str],\n",
        "    k_values: list[int],\n",
        "    test_size: float = 0.2,\n",
        "    random_state: int = 42,\n",
        ") -> tuple[list[KNNResult], tuple[np.ndarray, np.ndarray]]:\n",
        "    X = data[feature_names].to_numpy()\n",
        "    y = data[\"species\"].to_numpy()\n",
        "\n",
        "    X_train, X_test, y_train, y_test = train_test_split(\n",
        "        X,\n",
        "        y,\n",
        "        test_size=test_size,\n",
        "        random_state=random_state,\n",
        "        stratify=y,\n",
        "    )\n",
        "\n",
        "    results: list[KNNResult] = []\n",
        "\n",
        "    for k in k_values:\n",
        "        pipeline = make_pipeline(\n",
        "            StandardScaler(),\n",
        "            KNeighborsClassifier(n_neighbors=k),\n",
        "        )\n",
        "        pipeline.fit(X_train, y_train)\n",
        "        y_pred = pipeline.predict(X_test)\n",
        "        accuracy = accuracy_score(y_test, y_pred)\n",
        "        knn_model = pipeline.named_steps[\"kneighborsclassifier\"]\n",
        "        results.append(\n",
        "            KNNResult(\n",
        "                k=k,\n",
        "                accuracy=accuracy,\n",
        "                model=knn_model,\n",
        "                pipeline=pipeline,\n",
        "                y_test=y_test,\n",
        "                y_pred=y_pred,\n",
        "            )\n",
        "        )\n",
        "\n",
        "    return results, (X, y)\n"
      ]
    },
    {
      "cell_type": "markdown",
      "metadata": {},
      "source": [
        "## KNNモデルの学習と評価\n"
      ]
    },
    {
      "cell_type": "code",
      "metadata": {},
      "execution_count": null,
      "outputs": [],
      "source": [
        "feature_names = resolve_feature_names(FEATURE_MODE, CUSTOM_FEATURES)\n",
        "print(f\"Using features: {feature_names}\")\n",
        "results, (X_all, y_all) = evaluate_knn(\n",
        "    df_iris,\n",
        "    feature_names=feature_names,\n",
        "    k_values=K_VALUES,\n",
        "    test_size=TEST_SIZE,\n",
        "    random_state=RANDOM_STATE,\n",
        ")\n",
        "\n",
        "for result in results:\n",
        "    print(f\"k = {result.k:2d} | accuracy = {result.accuracy:.3f}\")\n",
        "    ConfusionMatrixDisplay.from_predictions(\n",
        "        result.y_test,\n",
        "        result.y_pred,\n",
        "        display_labels=sorted(np.unique(y_all)),\n",
        "        cmap=\"Blues\",\n",
        "        normalize=None,\n",
        "    )\n",
        "    plt.title(f\"Confusion matrix (k={result.k})\")\n",
        "    plt.tight_layout()\n",
        "    plt.show()\n"
      ]
    },
    {
      "cell_type": "markdown",
      "metadata": {},
      "source": [
        "## 2特徴量の場合の決定境界可視化\n"
      ]
    },
    {
      "cell_type": "code",
      "metadata": {},
      "execution_count": null,
      "outputs": [],
      "source": [
        "def plot_decision_boundary(\n",
        "    pipeline,\n",
        "    X: np.ndarray,\n",
        "    y: np.ndarray,\n",
        "    feature_names: list[str],\n",
        "    step: float = 0.02,\n",
        "    title: str | None = None,\n",
        "):\n",
        "    if X.shape[1] != 2:\n",
        "        raise ValueError(\"Decision boundary can only be drawn for 2D feature spaces.\")\n",
        "\n",
        "    x_min, x_max = X[:, 0].min() - 0.5, X[:, 0].max() + 0.5\n",
        "    y_min, y_max = X[:, 1].min() - 0.5, X[:, 1].max() + 0.5\n",
        "    xx, yy = np.meshgrid(\n",
        "        np.arange(x_min, x_max, step),\n",
        "        np.arange(y_min, y_max, step),\n",
        "    )\n",
        "\n",
        "    grid = np.c_[xx.ravel(), yy.ravel()]\n",
        "    predictions = pipeline.predict(grid)\n",
        "    classes = sorted(np.unique(y))\n",
        "    class_to_index = {label: index for index, label in enumerate(classes)}\n",
        "    zz = np.vectorize(class_to_index.get)(predictions).reshape(xx.shape)\n",
        "\n",
        "    cmap = ListedColormap(sns.color_palette(\"pastel\", n_colors=len(classes)))\n",
        "\n",
        "    fig, ax = plt.subplots(figsize=(8, 6))\n",
        "    ax.contourf(xx, yy, zz, cmap=cmap, alpha=0.5)\n",
        "\n",
        "    palette = sns.color_palette(\"deep\", n_colors=len(classes))\n",
        "    for label, color in zip(classes, palette):\n",
        "        mask = y == label\n",
        "        ax.scatter(\n",
        "            X[mask, 0],\n",
        "            X[mask, 1],\n",
        "            label=label,\n",
        "            edgecolor=\"black\",\n",
        "            color=color,\n",
        "            s=60,\n",
        "        )\n",
        "\n",
        "    xlabel = feature_names[0].replace(\".\", \" \").title()\n",
        "    ylabel = feature_names[1].replace(\".\", \" \").title()\n",
        "    ax.set_xlabel(xlabel)\n",
        "    ax.set_ylabel(ylabel)\n",
        "    ax.set_title(title or \"KNN decision boundary\")\n",
        "    ax.legend(title=\"Species\")\n",
        "    plt.tight_layout()\n",
        "    return ax\n"
      ]
    },
    {
      "cell_type": "code",
      "metadata": {},
      "execution_count": null,
      "outputs": [],
      "source": [
        "if len(feature_names) == 2:\n",
        "    best_result = max(results, key=lambda item: item.accuracy)\n",
        "    plot_decision_boundary(\n",
        "        pipeline=best_result.pipeline,\n",
        "        X=X_all,\n",
        "        y=y_all,\n",
        "        feature_names=feature_names,\n",
        "        title=f\"Decision boundary (k={best_result.k})\",\n",
        "    )\n",
        "    plt.show()\n",
        "else:\n",
        "    print(\"Decision boundary visualization is skipped because more than 2 features were selected.\")\n"
      ]
    }
  ]
}
