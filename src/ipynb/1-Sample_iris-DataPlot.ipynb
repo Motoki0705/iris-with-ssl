{
  "nbformat": 4,
  "nbformat_minor": 5,
  "metadata": {
    "kernelspec": {
      "name": "python3",
      "display_name": "Python 3",
      "language": "python"
    },
    "language_info": {
      "name": "python",
      "pygments_lexer": "ipython3"
    }
  },
  "cells": [
    {
      "cell_type": "markdown",
      "metadata": {},
      "source": [
        "# Iris Data Plot Notebook\n",
        "\n",
        "このノートブックでは、アヤメ (Iris) データセットの基本的な情報確認と、選択した特徴量を用いた散布図の作成を行います。\n"
      ]
    },
    {
      "cell_type": "code",
      "metadata": {},
      "execution_count": null,
      "outputs": [],
      "source": [
        "import itertools\n",
        "from pathlib import Path\n",
        "\n",
        "import matplotlib.pyplot as plt\n",
        "import numpy as np\n",
        "import pandas as pd\n",
        "import seaborn as sns\n",
        "\n",
        "sns.set_theme(style=\"whitegrid\")\n"
      ]
    },
    {
      "cell_type": "markdown",
      "metadata": {},
      "source": [
        "## データ読み込みと整形\n"
      ]
    },
    {
      "cell_type": "code",
      "metadata": {},
      "execution_count": null,
      "outputs": [],
      "source": [
        "def find_data_path(filename: str = \"iris.csv\", search_depth: int = 4) -> Path:\n",
        "    \"\"\"Look for the dataset in the current directory and up to N parent directories.\"\"\"\n",
        "    current = Path.cwd().resolve()\n",
        "    candidates = [current / filename]\n",
        "    candidates.extend(parent / filename for parent in current.parents[:search_depth])\n",
        "\n",
        "    for path in candidates:\n",
        "        if path.exists():\n",
        "            return path\n",
        "\n",
        "    raise FileNotFoundError(\n",
        "        f\"Could not find {filename}. Checked: {[str(path) for path in candidates]}\"\n",
        "    )\n",
        "\n",
        "\n",
        "def load_iris_dataframe() -> pd.DataFrame:\n",
        "    path = find_data_path()\n",
        "    df = pd.read_csv(path)\n",
        "    renamed_columns = {\n",
        "        \"sepal.length (cm)\": \"sepal.length\",\n",
        "        \"sepal.width (cm)\": \"sepal.width\",\n",
        "        \"petal.length (cm)\": \"petal.length\",\n",
        "        \"petal.width (cm)\": \"petal.width\",\n",
        "    }\n",
        "    df = df.rename(columns=renamed_columns)\n",
        "    species_map = {0: \"setosa\", 1: \"versicolor\", 2: \"virginica\"}\n",
        "    df[\"species\"] = df[\"target\"].map(species_map)\n",
        "    return df\n",
        "\n",
        "\n",
        "df_iris = load_iris_dataframe()\n",
        "df_iris.head()\n"
      ]
    },
    {
      "cell_type": "markdown",
      "metadata": {},
      "source": [
        "## 基本統計量とクラス分布\n"
      ]
    },
    {
      "cell_type": "code",
      "metadata": {},
      "execution_count": null,
      "outputs": [],
      "source": [
        "summary = df_iris.describe(include=[np.number]).T\n",
        "summary[[\"mean\", \"std\", \"min\", \"max\"]]\n"
      ]
    },
    {
      "cell_type": "code",
      "metadata": {},
      "execution_count": null,
      "outputs": [],
      "source": [
        "class_counts = df_iris[\"species\"].value_counts().rename(\"count\")\n",
        "class_counts\n"
      ]
    },
    {
      "cell_type": "markdown",
      "metadata": {},
      "source": [
        "## 散布図用のユーティリティ関数\n"
      ]
    },
    {
      "cell_type": "code",
      "metadata": {},
      "execution_count": null,
      "outputs": [],
      "source": [
        "def make_color_palette(labels, palette: str | list[str] | None = None) -> dict[str, str]:\n",
        "    unique_labels = sorted(set(labels))\n",
        "    if palette is None:\n",
        "        colors = sns.color_palette(\"deep\", n_colors=len(unique_labels))\n",
        "    elif isinstance(palette, str):\n",
        "        colors = sns.color_palette(palette, n_colors=len(unique_labels))\n",
        "    else:\n",
        "        if len(palette) < len(unique_labels):\n",
        "            raise ValueError(\"Palette list is shorter than the number of unique labels.\")\n",
        "        colors = palette\n",
        "    return dict(zip(unique_labels, colors))\n",
        "\n",
        "\n",
        "def plot_iris_scatter(\n",
        "    data: pd.DataFrame,\n",
        "    feature_x: str,\n",
        "    feature_y: str,\n",
        "    palette: str | list[str] | None = None,\n",
        "    marker_styles: dict[str, str] | None = None,\n",
        "    point_size: int = 60,\n",
        "    alpha: float = 0.85,\n",
        "    title: str | None = None,\n",
        "):\n",
        "    required_columns = {feature_x, feature_y, \"species\"}\n",
        "    missing = required_columns - set(data.columns)\n",
        "    if missing:\n",
        "        raise ValueError(f\"Dataframe is missing required columns: {missing}\")\n",
        "\n",
        "    markers_default = {\n",
        "        \"setosa\": \"o\",\n",
        "        \"versicolor\": \"s\",\n",
        "        \"virginica\": \"^\",\n",
        "    }\n",
        "    markers = markers_default if marker_styles is None else marker_styles\n",
        "\n",
        "    color_map = make_color_palette(data[\"species\"], palette)\n",
        "    species_list = sorted(data[\"species\"].unique())\n",
        "\n",
        "    fig, ax = plt.subplots(figsize=(8, 6))\n",
        "\n",
        "    for species in species_list:\n",
        "        subset = data[data[\"species\"] == species]\n",
        "        marker = markers.get(species, \"o\")\n",
        "        ax.scatter(\n",
        "            subset[feature_x],\n",
        "            subset[feature_y],\n",
        "            label=species,\n",
        "            s=point_size,\n",
        "            marker=marker,\n",
        "            color=color_map[species],\n",
        "            edgecolor=\"black\",\n",
        "            alpha=alpha,\n",
        "        )\n",
        "\n",
        "    xlabel = feature_x.replace(\".\", \" \")\n",
        "    ylabel = feature_y.replace(\".\", \" \")\n",
        "    ax.set_xlabel(xlabel.title())\n",
        "    ax.set_ylabel(ylabel.title())\n",
        "    ax.set_title(title or f\"Iris scatter: {feature_x} vs {feature_y}\")\n",
        "    ax.legend(title=\"Species\", frameon=True)\n",
        "    plt.tight_layout()\n",
        "    return ax\n"
      ]
    },
    {
      "cell_type": "markdown",
      "metadata": {},
      "source": [
        "## デフォルト設定での散布図\n"
      ]
    },
    {
      "cell_type": "code",
      "metadata": {},
      "execution_count": null,
      "outputs": [],
      "source": [
        "plot_iris_scatter(\n",
        "    data=df_iris,\n",
        "    feature_x=\"sepal.length\",\n",
        "    feature_y=\"sepal.width\",\n",
        ")\n",
        "plt.show()\n"
      ]
    },
    {
      "cell_type": "markdown",
      "metadata": {},
      "source": [
        "## カラーパレットとマーカーを変更した散布図\n"
      ]
    },
    {
      "cell_type": "code",
      "metadata": {},
      "execution_count": null,
      "outputs": [],
      "source": [
        "custom_markers = {\"setosa\": \"P\", \"versicolor\": \"X\", \"virginica\": \"D\"}\n",
        "plot_iris_scatter(\n",
        "    data=df_iris,\n",
        "    feature_x=\"petal.length\",\n",
        "    feature_y=\"petal.width\",\n",
        "    palette=\"mako\",\n",
        "    marker_styles=custom_markers,\n",
        "    title=\"Custom markers and palette\",\n",
        ")\n",
        "plt.show()\n"
      ]
    }
  ]
}
